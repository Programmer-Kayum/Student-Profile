{
 "cells": [
  {
   "cell_type": "code",
   "execution_count": 1,
   "id": "7d45015e-71b9-472c-a96e-967400c6c6db",
   "metadata": {},
   "outputs": [
    {
     "data": {
      "text/plain": [
       "30"
      ]
     },
     "execution_count": 1,
     "metadata": {},
     "output_type": "execute_result"
    }
   ],
   "source": [
    "# without variable\n",
    "10+20"
   ]
  },
  {
   "cell_type": "code",
   "execution_count": 15,
   "id": "9fc9131c-64f0-48f4-b274-ec1b039d2444",
   "metadata": {},
   "outputs": [
    {
     "data": {
      "text/plain": [
       "30"
      ]
     },
     "execution_count": 15,
     "metadata": {},
     "output_type": "execute_result"
    }
   ],
   "source": [
    "# with variable\n",
    "a=10;\n",
    "b=20;\n",
    "a+b"
   ]
  },
  {
   "cell_type": "code",
   "execution_count": 17,
   "id": "a5267705-d94b-42ac-b93a-11508f5a053e",
   "metadata": {},
   "outputs": [
    {
     "data": {
      "text/plain": [
       "270"
      ]
     },
     "execution_count": 17,
     "metadata": {},
     "output_type": "execute_result"
    }
   ],
   "source": [
    "#Doing mathematical operation\n",
    "A=120\n",
    "B=150\n",
    "A+B"
   ]
  },
  {
   "cell_type": "code",
   "execution_count": 23,
   "id": "781a9c5f-8320-4030-a78d-f060050ca8a3",
   "metadata": {},
   "outputs": [
    {
     "data": {
      "text/plain": [
       "(379.21000000000004, -112.54999999999998)"
      ]
     },
     "execution_count": 23,
     "metadata": {},
     "output_type": "execute_result"
    }
   ],
   "source": [
    "# addition using decimal values\n",
    "x = 133.33\n",
    "y= 245.88\n",
    "x+y,x-y"
   ]
  },
  {
   "cell_type": "code",
   "execution_count": 27,
   "id": "bfedec5a-e53c-4739-8252-c50f98d99406",
   "metadata": {},
   "outputs": [
    {
     "name": "stdout",
     "output_type": "stream",
     "text": [
      "['False', 'None', 'True', 'and', 'as', 'assert', 'async', 'await', 'break', 'class', 'continue', 'def', 'del', 'elif', 'else', 'except', 'finally', 'for', 'from', 'global', 'if', 'import', 'in', 'is', 'lambda', 'nonlocal', 'not', 'or', 'pass', 'raise', 'return', 'try', 'while', 'with', 'yield']\n"
     ]
    }
   ],
   "source": [
    "import keyword\n",
    "print(keyword.kwlist)"
   ]
  },
  {
   "cell_type": "code",
   "execution_count": 29,
   "id": "c2d9d66c-6194-448b-bae3-f63feefc10f6",
   "metadata": {},
   "outputs": [
    {
     "data": {
      "text/plain": [
       "35"
      ]
     },
     "execution_count": 29,
     "metadata": {},
     "output_type": "execute_result"
    }
   ],
   "source": [
    "len(keyword.kwlist)"
   ]
  },
  {
   "cell_type": "code",
   "execution_count": 31,
   "id": "627bec8d-1ab6-42e7-9099-4095e9dc2ee2",
   "metadata": {},
   "outputs": [
    {
     "data": {
      "text/plain": [
       "True"
      ]
     },
     "execution_count": 31,
     "metadata": {},
     "output_type": "execute_result"
    }
   ],
   "source": [
    "#arguments using python true false\n",
    "1==1"
   ]
  },
  {
   "cell_type": "code",
   "execution_count": 33,
   "id": "da3a0dfd-05a1-4c31-9e75-231526dcbaa8",
   "metadata": {},
   "outputs": [
    {
     "data": {
      "text/plain": [
       "False"
      ]
     },
     "execution_count": 33,
     "metadata": {},
     "output_type": "execute_result"
    }
   ],
   "source": [
    "10==1"
   ]
  },
  {
   "cell_type": "code",
   "execution_count": 35,
   "id": "0558a06d-5032-4f81-9a8b-207befa61b02",
   "metadata": {},
   "outputs": [
    {
     "data": {
      "text/plain": [
       "True"
      ]
     },
     "execution_count": 35,
     "metadata": {},
     "output_type": "execute_result"
    }
   ],
   "source": [
    "4>2"
   ]
  },
  {
   "cell_type": "code",
   "execution_count": 37,
   "id": "5ff52d62-f3dc-4269-be19-6a7f1713a6ca",
   "metadata": {},
   "outputs": [
    {
     "data": {
      "text/plain": [
       "True"
      ]
     },
     "execution_count": 37,
     "metadata": {},
     "output_type": "execute_result"
    }
   ],
   "source": [
    "3<5"
   ]
  },
  {
   "cell_type": "code",
   "execution_count": 39,
   "id": "e0630d0c-448d-4485-8fd2-cbbb8d0288c7",
   "metadata": {},
   "outputs": [
    {
     "data": {
      "text/plain": [
       "False"
      ]
     },
     "execution_count": 39,
     "metadata": {},
     "output_type": "execute_result"
    }
   ],
   "source": [
    "None==0"
   ]
  },
  {
   "cell_type": "code",
   "execution_count": 41,
   "id": "3cb0617c-3597-4ecc-904a-5c5ba8b67302",
   "metadata": {},
   "outputs": [
    {
     "data": {
      "text/plain": [
       "False"
      ]
     },
     "execution_count": 41,
     "metadata": {},
     "output_type": "execute_result"
    }
   ],
   "source": [
    "None ==False"
   ]
  },
  {
   "cell_type": "code",
   "execution_count": 45,
   "id": "db1c7eb6-b89b-4105-abe9-67d99b70be03",
   "metadata": {},
   "outputs": [
    {
     "data": {
      "text/plain": [
       "False"
      ]
     },
     "execution_count": 45,
     "metadata": {},
     "output_type": "execute_result"
    }
   ],
   "source": [
    "#and or not in python\n",
    "True and False"
   ]
  },
  {
   "cell_type": "code",
   "execution_count": 47,
   "id": "1acaf9a4-c261-476c-93ae-f92d65293a71",
   "metadata": {},
   "outputs": [
    {
     "data": {
      "text/plain": [
       "True"
      ]
     },
     "execution_count": 47,
     "metadata": {},
     "output_type": "execute_result"
    }
   ],
   "source": [
    "True or False"
   ]
  },
  {
   "cell_type": "code",
   "execution_count": 49,
   "id": "faef1435-22d7-48f9-a9c4-4cb457ad6d45",
   "metadata": {},
   "outputs": [
    {
     "data": {
      "text/plain": [
       "True"
      ]
     },
     "execution_count": 49,
     "metadata": {},
     "output_type": "execute_result"
    }
   ],
   "source": [
    "not False"
   ]
  },
  {
   "cell_type": "code",
   "execution_count": 51,
   "id": "3e2b7847-da94-41d9-8f10-7ab7c22d78c2",
   "metadata": {},
   "outputs": [
    {
     "data": {
      "text/plain": [
       "int"
      ]
     },
     "execution_count": 51,
     "metadata": {},
     "output_type": "execute_result"
    }
   ],
   "source": [
    "#number in python\n",
    "A=10\n",
    "type(A)"
   ]
  },
  {
   "cell_type": "code",
   "execution_count": 53,
   "id": "08112d1f-b10d-442b-b35b-380c09ce365d",
   "metadata": {},
   "outputs": [
    {
     "name": "stdout",
     "output_type": "stream",
     "text": [
      "10\n"
     ]
    }
   ],
   "source": [
    "print(A)"
   ]
  },
  {
   "cell_type": "code",
   "execution_count": 61,
   "id": "6a39804d-1b91-47d7-a92b-cd219d8c4aec",
   "metadata": {},
   "outputs": [
    {
     "data": {
      "text/plain": [
       "float"
      ]
     },
     "execution_count": 61,
     "metadata": {},
     "output_type": "execute_result"
    }
   ],
   "source": [
    "A=10.000\n",
    "type(A)"
   ]
  },
  {
   "cell_type": "code",
   "execution_count": 65,
   "id": "c4bb91b5-eb4d-4ec7-8410-db09c51416eb",
   "metadata": {},
   "outputs": [
    {
     "name": "stdout",
     "output_type": "stream",
     "text": [
      "(10+2j)\n"
     ]
    }
   ],
   "source": [
    " B = 10+2j\n",
    " print(B)"
   ]
  },
  {
   "cell_type": "code",
   "execution_count": 67,
   "id": "fba66f15-85b6-4d8c-b225-9f39d8af469d",
   "metadata": {},
   "outputs": [
    {
     "data": {
      "text/plain": [
       "complex"
      ]
     },
     "execution_count": 67,
     "metadata": {},
     "output_type": "execute_result"
    }
   ],
   "source": [
    "type(B)"
   ]
  },
  {
   "cell_type": "code",
   "execution_count": null,
   "id": "e0d1691f-bdf0-4260-8222-fa00ca6616f0",
   "metadata": {},
   "outputs": [],
   "source": []
  }
 ],
 "metadata": {
  "kernelspec": {
   "display_name": "Python 3 (ipykernel)",
   "language": "python",
   "name": "python3"
  },
  "language_info": {
   "codemirror_mode": {
    "name": "ipython",
    "version": 3
   },
   "file_extension": ".py",
   "mimetype": "text/x-python",
   "name": "python",
   "nbconvert_exporter": "python",
   "pygments_lexer": "ipython3",
   "version": "3.12.4"
  }
 },
 "nbformat": 4,
 "nbformat_minor": 5
}
